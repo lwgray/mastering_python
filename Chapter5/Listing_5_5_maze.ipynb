{
  "nbformat": 4,
  "nbformat_minor": 0,
  "metadata": {
    "colab": {
      "provenance": [],
      "authorship_tag": "ABX9TyPJE2V5QFB9TooP8A9YaJgH",
      "include_colab_link": true
    },
    "kernelspec": {
      "name": "python3",
      "display_name": "Python 3"
    },
    "language_info": {
      "name": "python"
    }
  },
  "cells": [
    {
      "cell_type": "markdown",
      "metadata": {
        "id": "view-in-github",
        "colab_type": "text"
      },
      "source": [
        "<a href=\"https://colab.research.google.com/github/lwgray/mastering_python/blob/main/Chapter5/Listing_5_5_maze.ipynb\" target=\"_parent\"><img src=\"https://colab.research.google.com/assets/colab-badge.svg\" alt=\"Open In Colab\"/></a>"
      ]
    },
    {
      "cell_type": "markdown",
      "source": [
        "Python Strings Learning Game: \"String Explorer\"\n",
        "\n",
        "Game Objective: Navigate through a maze represented as a grid of characters. You'll receive instructions as strings, and you must use string operations to interpret these instructions and move your character to the exit.\n",
        "\n",
        "How to Play:\n",
        "\n",
        "* The maze is represented by a multi-line string, where \"X\" marks your current position, \" \" (space) marks open paths, and \"*\" marks walls. The exit is marked as \"E\".\n",
        "* You will receive instructions like \"forward 3\", \"back 2\", \"left 4\", or \"right 1\" where the first word is the direction and the second is the number of steps.\n",
        "* Use string methods to parse these instructions and update your position in the maze."
      ],
      "metadata": {
        "id": "bia2oFB5LAs0"
      }
    },
    {
      "cell_type": "code",
      "source": [
        "maze = \"\"\"\n",
        "*****\n",
        "*X  *\n",
        "* * *\n",
        "*  E*\n",
        "*****\n",
        "\"\"\"\n",
        "\n",
        "# Starting position\n",
        "x, y = 1, 1\n",
        "\n",
        "# Corrected instructions to reach \"E\"\n",
        "instructions = [\"down 2\", \"right 2\"]\n",
        "\n",
        "# Function to move the player correctly\n",
        "def move(direction, steps):\n",
        "    global x, y\n",
        "    if direction == \"down\":\n",
        "        y += steps  # Move down in the maze\n",
        "    elif direction == \"up\":\n",
        "        y -= steps  # Move up in the maze\n",
        "    elif direction == \"right\":\n",
        "        x += steps  # Move right in the maze\n",
        "    elif direction == \"left\":\n",
        "        x -= steps  # Move left in the maze\n",
        "\n",
        "# Process instructions\n",
        "for instruction in instructions:\n",
        "    parts = instruction.split()\n",
        "    direction, steps = parts[0], int(parts[1])\n",
        "    move(direction, steps)\n",
        "\n",
        "# Correctly check if the player has reached the exit\n",
        "maze_rows = maze.strip().split('\\n')\n",
        "exit_row, exit_column = [(idx, row.index('E'))\n",
        "                         for idx, row in enumerate(maze_rows)\n",
        "                         if 'E' in row][0]\n",
        "current_position = (y, x)\n",
        "\n",
        "if current_position == (exit_row, exit_column):\n",
        "    print(\"Congratulations, you've found the exit!\")\n",
        "else:\n",
        "    print(\"Try again!\")"
      ],
      "metadata": {
        "id": "7aCcGWbRVYJH"
      },
      "execution_count": null,
      "outputs": []
    },
    {
      "cell_type": "markdown",
      "source": [
        "**Note:** This game is very simplified and assumes the maze doesn't change, and there's no validation to prevent moving through walls. It's primarily for understanding string manipulation. In a full game, you'd include loops, conditionals, and more sophisticated input handling to create a complete experience.\n",
        "\n",
        "These exercises should help strengthen your understanding of Python strings through interactive learning. Remember, the key to mastering programming concepts is practice and experimentation, so feel free to modify the game to explore more string methods and functionalities!"
      ],
      "metadata": {
        "id": "rih6dSe4MIqd"
      }
    }
  ]
}