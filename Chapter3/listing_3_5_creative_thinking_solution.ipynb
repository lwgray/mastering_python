{
  "nbformat": 4,
  "nbformat_minor": 0,
  "metadata": {
    "colab": {
      "provenance": [],
      "authorship_tag": "ABX9TyNFE/kGhMtcMAEwJ4BTEDIX",
      "include_colab_link": true
    },
    "kernelspec": {
      "name": "python3",
      "display_name": "Python 3"
    },
    "language_info": {
      "name": "python"
    }
  },
  "cells": [
    {
      "cell_type": "markdown",
      "metadata": {
        "id": "view-in-github",
        "colab_type": "text"
      },
      "source": [
        "<a href=\"https://colab.research.google.com/github/lwgray/mastering_python/blob/main/Chapter3/listing_3_5_creative_thinking_solution.ipynb\" target=\"_parent\"><img src=\"https://colab.research.google.com/assets/colab-badge.svg\" alt=\"Open In Colab\"/></a>"
      ]
    },
    {
      "cell_type": "markdown",
      "source": [
        "#Exercise\n",
        "\n",
        "Creative Thinking: Given this table below of BMI ranges and categories. Jimmy's BMI is 16.529, and he is underweight (60.3 kg) and 1.91m tall.  Use Python to calculate how much weight Jimmy must gain to be within the normal range.\n",
        "\n",
        "BMI = $\\frac{weight(kg)}{height(meters)^2}$\n",
        "\n",
        "Table 3.3 BMI range and category\n",
        "\n",
        "BMI Range   |\tCategory\n",
        "------------|---------\n",
        "below 18.5\t| Underweight\n",
        "18.5 - 24.9\t| Normal\n",
        "25.0 - 29.9\t| Overweight\n",
        "30 and above|\tObese\n",
        "\n",
        "\n",
        "\n",
        "\n"
      ],
      "metadata": {
        "id": "pslf-PnAyPjI"
      }
    },
    {
      "cell_type": "markdown",
      "source": [
        "# **Solution**\n",
        "Creative Thinking: We first take a desired BMI from the normal range (18.5) and multiply it by height squared to get the desired weight.  The next step would be to subtract the desired weight from the original weight to get the kilograms needed to put on.\n",
        "\n",
        "\n",
        "$weight(kg) = BMI * height(meters)^2$\n"
      ],
      "metadata": {
        "id": "Ljm8TwjpOh89"
      }
    },
    {
      "cell_type": "code",
      "execution_count": null,
      "metadata": {
        "id": "1IjQ2CW1x5e7"
      },
      "outputs": [],
      "source": [
        "# Known height, weight, and BMI\n",
        "height = 1.91\n",
        "original_bmi = 16.5\n",
        "original_weight = 60.3\n",
        "\n",
        "# desired BMI and weight\n",
        "desired_bmi = 18.5\n",
        "desired_weight = desired_bmi * height**2\n",
        "\n",
        "# weight that Jimmy needs to put on\n",
        "weight_to_add = desired_weight - original_weight\n",
        "print(weight_to_add)\n",
        "# Approx. 7.19kg"
      ]
    }
  ]
}