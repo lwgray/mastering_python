{
  "nbformat": 4,
  "nbformat_minor": 0,
  "metadata": {
    "colab": {
      "provenance": [],
      "authorship_tag": "ABX9TyPrlcscnbMuGRgzXVmaP6LW",
      "include_colab_link": true
    },
    "kernelspec": {
      "name": "python3",
      "display_name": "Python 3"
    },
    "language_info": {
      "name": "python"
    }
  },
  "cells": [
    {
      "cell_type": "markdown",
      "metadata": {
        "id": "view-in-github",
        "colab_type": "text"
      },
      "source": [
        "<a href=\"https://colab.research.google.com/github/lwgray/mastering_python/blob/main/Chapter3/listing_3_6_analytical_thinking_solution.ipynb\" target=\"_parent\"><img src=\"https://colab.research.google.com/assets/colab-badge.svg\" alt=\"Open In Colab\"/></a>"
      ]
    },
    {
      "cell_type": "markdown",
      "source": [
        "# Exercise\n",
        "Analytical Thinking:\n",
        "Below is a table of BMI values and the category they fall into according to the provided BMI ranges (Table 3.4).  Your task is to count how many individuals fall into each category and then use arithmetic operations to verify your counts.\n",
        "\n",
        "1. Count manually how many individuals fall into the 'Underweight', 'Normal weight', 'Overweight', and 'Obese' categories and write these counts down.\n",
        "1. Using variable assignment and math operators, calculate the total number of individuals and then calculate the percentage of each category.\n",
        "2. Comment each line of your code to explain what you are doing and which mathematical operation corresponds to the calculation of the percentages.\n",
        "3. Test that the calculated percentages are correct\n",
        "\n",
        "Table 3.4 BMI and category for individual participants\n",
        "\n",
        "\n",
        "Body Mass Index |\tCategories\n",
        "----------------|------------\n",
        "30.6 |\tObese\n",
        "25.7 |\tOverweight\n",
        "14.1 |\tUnderweight\n",
        "22.3 |\tNormal weight\n",
        "35.2 |\tObese\n",
        "28.5 |\tOverweight\n",
        "18.8 |\tNormal weight\n",
        "16.9 |\tUnderweight\n",
        "24.4 |\tNormal weight\n",
        "23.0 |\tNormal weight\n"
      ],
      "metadata": {
        "id": "3wpYzRUQKd0D"
      }
    },
    {
      "cell_type": "markdown",
      "source": [
        "# Solution\n",
        "Analytical thinking: after manually counting the different categories, assign the counts to an appropriate variable, Listing 3.6. Then, tally the counts to find the total number of individuals. Take the counts and divide them by the total for the final percentages. You should be able to do the simple math without Python and know that the normal category is 40% while the others are 20%; therefore, you can test that the percentages are correct by using the assert keyword."
      ],
      "metadata": {
        "id": "HG4AFozT2_7j"
      }
    },
    {
      "cell_type": "code",
      "execution_count": null,
      "metadata": {
        "id": "N2qjjNYV2OSx"
      },
      "outputs": [],
      "source": [
        "# Number of individuals in each category\n",
        "underweight_count = 2\n",
        "normal_count = 4\n",
        "overweight_count = 2\n",
        "obese_count = 2\n",
        "\n",
        "total_individuals = underweight_count + normal_count + overweight_count + obese_count\n",
        "\n",
        "# Calculating the percentage of each category\n",
        "\n",
        "# For ‘normal weight’ category\n",
        "normal_percentage = (normal_count / total_individuals) * 100\n",
        "print(\"Percentage of individuals in 'Normal weight' category:\", normal_percentage)\n",
        "\n",
        "# For ‘underweight’ category\n",
        "under_percentage = (underweight_count / total_individuals) * 100\n",
        "print(\"Percentage of individuals in 'Underweight' category:\", under_percentage)\n",
        "\n",
        "# For ‘obese’ category\n",
        "obese_percentage = (obese_count / total_individuals) * 100\n",
        "print(\"Percentage of individuals in 'Obese' category:\", obese_percentage)\n",
        "\n",
        "# For ‘overweight’ category\n",
        "over_percentage = (overweight_count / total_individuals) * 100\n",
        "print(\"Percentage of individuals in 'Overweight' category:\", over_percentage)\n",
        "\n",
        "assert over_percentage == 20\n",
        "assert normal_percentage == 40\n",
        "assert under_percentage == 20\n",
        "assert obese_percentage == 20"
      ]
    }
  ]
}
