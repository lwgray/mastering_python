{
  "nbformat": 4,
  "nbformat_minor": 0,
  "metadata": {
    "colab": {
      "provenance": [],
      "authorship_tag": "ABX9TyNHJMsLWEn8AhBstbUgR7It",
      "include_colab_link": true
    },
    "kernelspec": {
      "name": "python3",
      "display_name": "Python 3"
    },
    "language_info": {
      "name": "python"
    }
  },
  "cells": [
    {
      "cell_type": "markdown",
      "metadata": {
        "id": "view-in-github",
        "colab_type": "text"
      },
      "source": [
        "<a href=\"https://colab.research.google.com/github/lwgray/mastering_python/blob/main/Chapter3/listing_3_1_ethels_code.ipynb\" target=\"_parent\"><img src=\"https://colab.research.google.com/assets/colab-badge.svg\" alt=\"Open In Colab\"/></a>"
      ]
    },
    {
      "cell_type": "markdown",
      "source": [
        "# BODY MASS INDEX – HOMEWORK ASSIGNMENT\n",
        "Lesson: Applying variable assignments, math operators, and comments in Python\n",
        "\n",
        "Definition:  BMI is a measure of body fat based on height and weight that applies to adult men and women.  A different formula would be needed to measure this in children.\n",
        "\n",
        "Problem: Create a Python program that calculates a person’s BMI with Equation 1.1.\n",
        "Your program should:\n",
        "1. Assign variables for your weight (in kilograms) and your height (in meters) (hint: use variable assignment)\n",
        "2. Calculate the BMI (hint: use math operators and PEMDAS)\n",
        "3. Print the calculated BMI.\n",
        "4. Test your calculator to see if someone with a weight of 77 kilograms and a height of 1.69 meters has a BMI of approximately 26.96"
      ],
      "metadata": {
        "id": "9d7RY6dhbEUf"
      }
    },
    {
      "cell_type": "markdown",
      "source": [
        "## Ethel's Code"
      ],
      "metadata": {
        "id": "3GXmluOVZZL-"
      }
    },
    {
      "cell_type": "code",
      "execution_count": null,
      "metadata": {
        "id": "5LAF87i1Yrnr"
      },
      "outputs": [],
      "source": [
        "$weight_in_kg = 78.0179\n",
        "@height_in_Meters = 1.7272 # My weight is 1.7272 meters\n",
        "\n",
        "# Calculates BMI\n",
        "BMI = ($weight_in_kg/@height_in_Meters) ** 2\n",
        "#print(BMI)"
      ]
    },
    {
      "cell_type": "markdown",
      "source": [
        "## Solution"
      ],
      "metadata": {
        "id": "1hDSs6_UZdcT"
      }
    },
    {
      "cell_type": "code",
      "source": [
        "weight_in_kg = 78.0179\n",
        "height_in_meters = 1.7272\n",
        "\n",
        "# Calculates BMI\n",
        "BMI = weight_in_kg/height_in_meters ** 2\n",
        "print(BMI)"
      ],
      "metadata": {
        "id": "1XezgyIFZOY-"
      },
      "execution_count": null,
      "outputs": []
    },
    {
      "cell_type": "markdown",
      "source": [
        "## Test Parameters"
      ],
      "metadata": {
        "id": "Eo45eiqjbruS"
      }
    },
    {
      "cell_type": "code",
      "source": [
        "weight_in_kg = 77\n",
        "height_in_meters = 1.69\n",
        "\n",
        "# Calculates BMI\n",
        "BMI = weight_in_kg/height_in_meters ** 2\n",
        "print(BMI)"
      ],
      "metadata": {
        "id": "TD0Qk0SXbdrg"
      },
      "execution_count": null,
      "outputs": []
    },
    {
      "cell_type": "code",
      "source": [
        "height = 1.91\n",
        "original_bmi = 16.5\n",
        "desired_bmi = 18.5 #bmi needed to be in the normal range\n",
        "original_weight = 60.3\n",
        "desired_weight = desired_bmi * height ** 2 # weight at height needed to be with the normal range\n",
        "weight_to_add = desired_weight - original_weight # weight needed to gain in order to reach normal range\n",
        "print(weight_to_add)\n",
        "print(desired_weight)"
      ],
      "metadata": {
        "id": "1LMXzXtQNogq"
      },
      "execution_count": null,
      "outputs": []
    }
  ]
}