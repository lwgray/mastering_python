{
  "nbformat": 4,
  "nbformat_minor": 0,
  "metadata": {
    "colab": {
      "provenance": [],
      "authorship_tag": "ABX9TyN7K2NudqyAhrwIYy+u/m9R",
      "include_colab_link": true
    },
    "kernelspec": {
      "name": "python3",
      "display_name": "Python 3"
    },
    "language_info": {
      "name": "python"
    }
  },
  "cells": [
    {
      "cell_type": "markdown",
      "metadata": {
        "id": "view-in-github",
        "colab_type": "text"
      },
      "source": [
        "<a href=\"https://colab.research.google.com/github/lwgray/mastering_python/blob/main/Chapter3/listing_3_2_example_operations.ipynb\" target=\"_parent\"><img src=\"https://colab.research.google.com/assets/colab-badge.svg\" alt=\"Open In Colab\"/></a>"
      ]
    },
    {
      "cell_type": "code",
      "execution_count": null,
      "metadata": {
        "id": "ARkQYvEGWCgX"
      },
      "outputs": [],
      "source": [
        "a = 5\n",
        "b = 3\n",
        "addition = a + b\n",
        "print(\"Addition: \", addition)\n",
        "assert addition == 8"
      ]
    },
    {
      "cell_type": "code",
      "source": [
        "a = 5\n",
        "b = 3\n",
        "subtraction = a - b\n",
        "print(\"Subtraction: \",subtraction)\n",
        "assert subtraction == 2"
      ],
      "metadata": {
        "id": "Z0VWpUEMslU8"
      },
      "execution_count": null,
      "outputs": []
    },
    {
      "cell_type": "code",
      "source": [
        "a = 8\n",
        "b = 2\n",
        "division = a / b\n",
        "print(\"Division: \", division)\n",
        "assert division == 4"
      ],
      "metadata": {
        "id": "AiZ1UHArsnjo"
      },
      "execution_count": null,
      "outputs": []
    },
    {
      "cell_type": "code",
      "source": [
        "a = 3\n",
        "b = 7\n",
        "multiplication = a * b\n",
        "print(\"Multiply: \", multiplication)\n",
        "assert multiplication == 21"
      ],
      "metadata": {
        "id": "CvkFuUrcsr0j"
      },
      "execution_count": null,
      "outputs": []
    },
    {
      "cell_type": "code",
      "source": [
        "a = 2\n",
        "b = 3\n",
        "exponent = a ** b\n",
        "print(\"Exponent: \", exponent)\n",
        "assert exponent == 8"
      ],
      "metadata": {
        "id": "Co7nbxmTsujZ"
      },
      "execution_count": null,
      "outputs": []
    },
    {
      "cell_type": "code",
      "source": [
        "a = 9\n",
        "b = 4\n",
        "modulus = a % b\n",
        "print(\"Modulus: \", modulus)\n",
        "assert modulus == 1"
      ],
      "metadata": {
        "id": "bktTGurosw_V"
      },
      "execution_count": null,
      "outputs": []
    },
    {
      "cell_type": "code",
      "source": [
        "a = 8\n",
        "b = 3\n",
        "floor = a // b\n",
        "print(\"Floor division: \", floor)\n",
        "assert floor == 2"
      ],
      "metadata": {
        "id": "1azb11lXsy4m"
      },
      "execution_count": null,
      "outputs": []
    }
  ]
}
