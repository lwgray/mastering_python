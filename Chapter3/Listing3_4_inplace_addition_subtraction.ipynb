{
  "nbformat": 4,
  "nbformat_minor": 0,
  "metadata": {
    "colab": {
      "provenance": [],
      "authorship_tag": "ABX9TyPG6KVcRgAoYPmFEDTUXCXg",
      "include_colab_link": true
    },
    "kernelspec": {
      "name": "python3",
      "display_name": "Python 3"
    },
    "language_info": {
      "name": "python"
    }
  },
  "cells": [
    {
      "cell_type": "markdown",
      "metadata": {
        "id": "view-in-github",
        "colab_type": "text"
      },
      "source": [
        "<a href=\"https://colab.research.google.com/github/lwgray/mastering_python/blob/main/Chapter3/Listing3_4_inplace_addition_subtraction.ipynb\" target=\"_parent\"><img src=\"https://colab.research.google.com/assets/colab-badge.svg\" alt=\"Open In Colab\"/></a>"
      ]
    },
    {
      "cell_type": "markdown",
      "source": [
        "# Inplace Addition and Subtraction."
      ],
      "metadata": {
        "id": "B-Atr-Pxv_St"
      }
    },
    {
      "cell_type": "code",
      "execution_count": null,
      "metadata": {
        "id": "oEVfw342vKtE"
      },
      "outputs": [],
      "source": [
        "x = 5\n",
        "x += 3\n",
        "print(x)\n",
        "assert x == 8\n"
      ]
    },
    {
      "cell_type": "code",
      "source": [
        "y = 10\n",
        "y -= 4\n",
        "print(y)\n",
        "assert y == 6\n"
      ],
      "metadata": {
        "id": "GMyoAiO3v2Qk"
      },
      "execution_count": null,
      "outputs": []
    }
  ]
}