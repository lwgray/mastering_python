{
  "nbformat": 4,
  "nbformat_minor": 0,
  "metadata": {
    "colab": {
      "provenance": [],
      "authorship_tag": "ABX9TyOx6KoIx2vEEYKCfPu/vk6d",
      "include_colab_link": true
    },
    "kernelspec": {
      "name": "python3",
      "display_name": "Python 3"
    },
    "language_info": {
      "name": "python"
    }
  },
  "cells": [
    {
      "cell_type": "markdown",
      "metadata": {
        "id": "view-in-github",
        "colab_type": "text"
      },
      "source": [
        "<a href=\"https://colab.research.google.com/github/lwgray/mastering_python/blob/main/Chapter3/listing_3_1_ethans_code.ipynb\" target=\"_parent\"><img src=\"https://colab.research.google.com/assets/colab-badge.svg\" alt=\"Open In Colab\"/></a>"
      ]
    },
    {
      "cell_type": "markdown",
      "source": [
        "# BODY MASS INDEX – HOMEWORK ASSIGNMENT\n",
        "Lesson: Applying variable assignments, math operators, and comments in Python\n",
        "\n",
        "Definition:  BMI is a measure of body fat based on height and weight that applies to adult men and women.  A different formula would be needed to measure this in children.\n",
        "\n",
        "Problem: Create a Python program that calculates a person’s BMI with Equation 1.1.\n",
        "Your program should:\n",
        "1. Assign variables for your weight (in kilograms) and your height (in meters) (hint: use variable assignment)\n",
        "2. Calculate the BMI (hint: use math operators and PEMDAS)\n",
        "3. Print the calculated BMI.\n",
        "4. Test your calculator to see if someone with a weight of 77 kilograms and a height of 1.69 meters has a BMI of approximately 26.96"
      ],
      "metadata": {
        "id": "9d7RY6dhbEUf"
      }
    },
    {
      "cell_type": "markdown",
      "source": [
        "## Ethan's Code"
      ],
      "metadata": {
        "id": "3GXmluOVZZL-"
      }
    },
    {
      "cell_type": "code",
      "execution_count": null,
      "metadata": {
        "id": "5LAF87i1Yrnr"
      },
      "outputs": [],
      "source": [
        "$weight_in_kg = 78.0179\n",
        "@height_in_Meters = 1.7272 # My weight is 1.7272 meters\n",
        "\n",
        "# Calculates BMI\n",
        "BMI = ($weight_in_kg/@height_in_Meters) ** 2\n",
        "#print(BMI)"
      ]
    },
    {
      "cell_type": "markdown",
      "source": [
        "## Solution"
      ],
      "metadata": {
        "id": "1hDSs6_UZdcT"
      }
    },
    {
      "cell_type": "code",
      "source": [
        "weight_in_kg = 78.0179\n",
        "height_in_meters = 1.7272\n",
        "\n",
        "# Calculates BMI\n",
        "BMI = weight_in_kg/height_in_meters ** 2\n",
        "print(BMI)"
      ],
      "metadata": {
        "colab": {
          "base_uri": "https://localhost:8080/"
        },
        "id": "1XezgyIFZOY-",
        "outputId": "750e7bac-5f6b-4a4f-c573-c8ba7c021b88"
      },
      "execution_count": null,
      "outputs": [
        {
          "output_type": "stream",
          "name": "stdout",
          "text": [
            "26.152246292381854\n"
          ]
        }
      ]
    },
    {
      "cell_type": "markdown",
      "source": [
        "## Test Parameters"
      ],
      "metadata": {
        "id": "Eo45eiqjbruS"
      }
    },
    {
      "cell_type": "code",
      "source": [
        "weight_in_kg = 77\n",
        "height_in_meters = 1.69\n",
        "\n",
        "# Calculates BMI\n",
        "BMI = weight_in_kg/height_in_meters ** 2\n",
        "print(BMI)"
      ],
      "metadata": {
        "colab": {
          "base_uri": "https://localhost:8080/"
        },
        "id": "TD0Qk0SXbdrg",
        "outputId": "2f5daaf6-25bf-4ff8-ea69-76aa13b6c6e1"
      },
      "execution_count": null,
      "outputs": [
        {
          "output_type": "stream",
          "name": "stdout",
          "text": [
            "26.959840341724732\n"
          ]
        }
      ]
    },
    {
      "cell_type": "code",
      "source": [
        "height = 1.91\n",
        "original_bmi = 16.5\n",
        "desired_bmi = 18.5 #bmi needed to be in the normal range\n",
        "original_weight = 60.3\n",
        "desired_weight = desired_bmi * height ** 2 # weight at height needed to be with the normal range\n",
        "weight_to_add = desired_weight - original_weight # weight needed to gain in order to reach normal range\n",
        "print(weight_to_add)\n",
        "print(desired_weight)"
      ],
      "metadata": {
        "colab": {
          "base_uri": "https://localhost:8080/",
          "height": 250
        },
        "id": "1LMXzXtQNogq",
        "outputId": "064e535b-3732-4d2c-d07b-1c8dc8de0558"
      },
      "execution_count": null,
      "outputs": [
        {
          "output_type": "stream",
          "name": "stdout",
          "text": [
            "7.189850000000007\n",
            "67.48985\n"
          ]
        },
        {
          "output_type": "error",
          "ename": "NameError",
          "evalue": "ignored",
          "traceback": [
            "\u001b[0;31m---------------------------------------------------------------------------\u001b[0m",
            "\u001b[0;31mNameError\u001b[0m                                 Traceback (most recent call last)",
            "\u001b[0;32m<ipython-input-1-d5f7a2b135c2>\u001b[0m in \u001b[0;36m<cell line: 9>\u001b[0;34m()\u001b[0m\n\u001b[1;32m      7\u001b[0m \u001b[0mprint\u001b[0m\u001b[0;34m(\u001b[0m\u001b[0mweight_to_add\u001b[0m\u001b[0;34m)\u001b[0m\u001b[0;34m\u001b[0m\u001b[0;34m\u001b[0m\u001b[0m\n\u001b[1;32m      8\u001b[0m \u001b[0mprint\u001b[0m\u001b[0;34m(\u001b[0m\u001b[0mdesired_weight\u001b[0m\u001b[0;34m)\u001b[0m\u001b[0;34m\u001b[0m\u001b[0;34m\u001b[0m\u001b[0m\n\u001b[0;32m----> 9\u001b[0;31m \u001b[0massertAlmostEqual\u001b[0m\u001b[0;34m(\u001b[0m\u001b[0mweight_to_add\u001b[0m\u001b[0;34m,\u001b[0m \u001b[0;36m7.19\u001b[0m\u001b[0;34m)\u001b[0m\u001b[0;34m\u001b[0m\u001b[0;34m\u001b[0m\u001b[0m\n\u001b[0m",
            "\u001b[0;31mNameError\u001b[0m: name 'assertAlmostEqual' is not defined"
          ]
        }
      ]
    }
  ]
}