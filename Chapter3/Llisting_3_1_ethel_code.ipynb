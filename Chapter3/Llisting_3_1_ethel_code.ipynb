{
  "nbformat": 4,
  "nbformat_minor": 0,
  "metadata": {
    "colab": {
      "provenance": [],
      "authorship_tag": "ABX9TyM8XkHNOndnhlExIqd+5kFi",
      "include_colab_link": true
    },
    "kernelspec": {
      "name": "python3",
      "display_name": "Python 3"
    },
    "language_info": {
      "name": "python"
    }
  },
  "cells": [
    {
      "cell_type": "markdown",
      "metadata": {
        "id": "view-in-github",
        "colab_type": "text"
      },
      "source": [
        "<a href=\"https://colab.research.google.com/github/lwgray/mastering_python/blob/main/Chapter3/Llisting_3_1_ethel_code.ipynb\" target=\"_parent\"><img src=\"https://colab.research.google.com/assets/colab-badge.svg\" alt=\"Open In Colab\"/></a>"
      ]
    },
    {
      "cell_type": "markdown",
      "source": [
        "# BOVINE BODY MASS INDEX – FARM ASSIGNMENT\n",
        "Lesson: Applying variable assignments, math operators, and comments in Python\n",
        "\n",
        "Definition:  Bovine BMI is a measure of body fat based on body length, hip height and weight.  A different formula would be needed to measure this in humans.\n",
        "\n",
        "Problem: Create a Python program that calculates a cow’s BMI with Equation 1.1.\n",
        "Your program should:\n",
        "1. Assign variables for the cow's weight (in kilograms), hip_height (in centimeters) and body length (in centimeters) (hint: use variable assignment)\n",
        "2. Calculate the BMI (hint: use math operators and PEMDAS)\n",
        "3. Print the calculated BMI.\n",
        "4. Test your calculator to see if a cow with a weight of 748 kilograms, length of 183 centimeters and a hip height of 122 centimeters has a BMI of approximately 0.335"
      ],
      "metadata": {
        "id": "9d7RY6dhbEUf"
      }
    },
    {
      "cell_type": "markdown",
      "source": [
        "## Ethel's Code"
      ],
      "metadata": {
        "id": "3GXmluOVZZL-"
      }
    },
    {
      "cell_type": "code",
      "execution_count": null,
      "metadata": {
        "id": "5LAF87i1Yrnr"
      },
      "outputs": [],
      "source": [
        "cow's_name = \"Betsy\"\n",
        "$body_weight_kg = 502 #Betsy's weight\n",
        "@hip_height_cM = 134\n",
        "_body_length_cm = 163\n",
        "\n",
        "bmi = ($body_weight_kg / _body_length_cm * @hip_height_cM) * 10\n",
        "\n",
        "print(\"The calculated CMI for the cow is \", bmi)\n",
        "print(\"Based on BMI, Pam can decide whether to milk or breed the cow\")"
      ]
    },
    {
      "cell_type": "markdown",
      "source": [
        "## Solution"
      ],
      "metadata": {
        "id": "1hDSs6_UZdcT"
      }
    },
    {
      "cell_type": "code",
      "source": [
        "cows_name = \"Betsy\"\n",
        "body_weight_kg = 502 #Betsy's weight\n",
        "hip_height_cm = 134\n",
        "_body_length_cm = 163\n",
        "\n",
        "bmi = (body_weight_kg / (_body_length_cm * hip_height_cm)) * 10\n",
        "\n",
        "print(\"The calculated CMI for the cow is \", bmi)\n",
        "print(\"Based on BMI, Pam can decide whether to milk or breed the cow\")"
      ],
      "metadata": {
        "id": "1XezgyIFZOY-"
      },
      "execution_count": null,
      "outputs": []
    },
    {
      "cell_type": "markdown",
      "source": [
        "## Test Parameters"
      ],
      "metadata": {
        "id": "Eo45eiqjbruS"
      }
    },
    {
      "cell_type": "code",
      "source": [
        "cows_name = \"Betsy\"\n",
        "body_weight_kg = 748 #Betsy's weight\n",
        "hip_height_cm = 122\n",
        "_body_length_cm = 183\n",
        "\n",
        "bmi = (body_weight_kg / (_body_length_cm * hip_height_cm)) * 10\n",
        "\n",
        "print(\"The calculated CMI for the cow is \", bmi)\n",
        "print(\"Based on BMI, Pam can decide whether to milk or breed the cow\")"
      ],
      "metadata": {
        "id": "TD0Qk0SXbdrg"
      },
      "execution_count": null,
      "outputs": []
    }
  ]
}