{
  "nbformat": 4,
  "nbformat_minor": 0,
  "metadata": {
    "colab": {
      "provenance": [],
      "authorship_tag": "ABX9TyNWDftLf0oXBX6/hQ6UDO1v",
      "include_colab_link": true
    },
    "kernelspec": {
      "name": "python3",
      "display_name": "Python 3"
    },
    "language_info": {
      "name": "python"
    }
  },
  "cells": [
    {
      "cell_type": "markdown",
      "metadata": {
        "id": "view-in-github",
        "colab_type": "text"
      },
      "source": [
        "<a href=\"https://colab.research.google.com/github/lwgray/mastering_python/blob/main/%5CChapter3%5Clisting_3_2_multiline_comments.ipynb\" target=\"_parent\"><img src=\"https://colab.research.google.com/assets/colab-badge.svg\" alt=\"Open In Colab\"/></a>"
      ]
    },
    {
      "cell_type": "code",
      "execution_count": null,
      "metadata": {
        "id": "4NDUNmZUjG14"
      },
      "outputs": [],
      "source": [
        "\"\"\"\n",
        "This is a multi-line comment or docstring.\n",
        "It can span across multiple lines and is often used\n",
        "to document the purpose and usage of functions\n",
        "\"\"\"\n",
        "print(\"Multi-line comments\")"
      ]
    }
  ]
}