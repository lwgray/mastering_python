{
  "nbformat": 4,
  "nbformat_minor": 0,
  "metadata": {
    "colab": {
      "provenance": [],
      "authorship_tag": "ABX9TyMya6rqT8nvlQwyeIZam9MW",
      "include_colab_link": true
    },
    "kernelspec": {
      "name": "python3",
      "display_name": "Python 3"
    },
    "language_info": {
      "name": "python"
    }
  },
  "cells": [
    {
      "cell_type": "markdown",
      "metadata": {
        "id": "view-in-github",
        "colab_type": "text"
      },
      "source": [
        "<a href=\"https://colab.research.google.com/github/lwgray/mastering_python/blob/main/Chapter4/Listing_4_3_Corrupted_Source_Code.ipynb\" target=\"_parent\"><img src=\"https://colab.research.google.com/assets/colab-badge.svg\" alt=\"Open In Colab\"/></a>"
      ]
    },
    {
      "cell_type": "code",
      "execution_count": null,
      "metadata": {
        "id": "RYmy_jSNgjpp"
      },
      "outputs": [],
      "source": [
        "# This is the passphrase that must be guessed\n",
        "passphrase = \"the quokka sits at high noon with his brim pulled down low\"\n",
        "\n",
        "-----(\"Welcome to the guessing game!\")\n",
        "-----(\"You have to guess the passphrase. I will tell you how many letters it has.\")\n",
        "\n",
        "-----(\"The passphrase has\", ---(passphrase), \"letters.\")\n",
        "\n",
        "guess = -----(\"Please enter your guess: \")\n",
        "\n",
        "while guess != passphrase:\n",
        "    -----(\"That's not correct. Try again!\")\n",
        "    guess = -----(\"Please enter your guess: \")\n",
        "print(\"Congratulations! You've guessed the passphrase.\")"
      ]
    }
  ]
}