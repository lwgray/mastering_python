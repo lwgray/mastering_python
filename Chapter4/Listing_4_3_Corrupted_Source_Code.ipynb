{
  "nbformat": 4,
  "nbformat_minor": 0,
  "metadata": {
    "colab": {
      "provenance": [],
      "authorship_tag": "ABX9TyMPrHxMHpuKu2g+Cv8Gpv2n",
      "include_colab_link": true
    },
    "kernelspec": {
      "name": "python3",
      "display_name": "Python 3"
    },
    "language_info": {
      "name": "python"
    }
  },
  "cells": [
    {
      "cell_type": "markdown",
      "metadata": {
        "id": "view-in-github",
        "colab_type": "text"
      },
      "source": [
        "<a href=\"https://colab.research.google.com/github/lwgray/mastering_python/blob/main/Chapter4/Listing_4_3_Corrupted_Source_Code.ipynb\" target=\"_parent\"><img src=\"https://colab.research.google.com/assets/colab-badge.svg\" alt=\"Open In Colab\"/></a>"
      ]
    },
    {
      "cell_type": "code",
      "execution_count": null,
      "metadata": {
        "id": "RYmy_jSNgjpp"
      },
      "outputs": [],
      "source": [
        "# This is the secret word that must be guessed\n",
        "secret_word = \"maxine\"\n",
        "\n",
        "-----(\"Welcome to the guessing game!\")\n",
        "-----(\"You have to guess the secret word. I will tell you how many letters it has.\")\n",
        "\n",
        "-----(\"The secret word has\", ---(secret_word), \"letters.\")\n",
        "\n",
        "guess = -----(\"Please enter your guess: \")\n",
        "\n",
        "while guess != secret_word:\n",
        "    -----(\"That's not correct. Try again!\")\n",
        "    guess = -----(\"Please enter your guess: \")\n",
        "print(\"Congratulations! You've guessed the secret word.\")"
      ]
    }
  ]
}