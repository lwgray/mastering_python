{
  "nbformat": 4,
  "nbformat_minor": 0,
  "metadata": {
    "colab": {
      "provenance": [],
      "authorship_tag": "ABX9TyOfzIAsfdfu2KipcTC16nS6",
      "include_colab_link": true
    },
    "kernelspec": {
      "name": "python3",
      "display_name": "Python 3"
    },
    "language_info": {
      "name": "python"
    }
  },
  "cells": [
    {
      "cell_type": "markdown",
      "metadata": {
        "id": "view-in-github",
        "colab_type": "text"
      },
      "source": [
        "<a href=\"https://colab.research.google.com/github/lwgray/mastering_python/blob/main/Chapter4/Listing_4_1_assigning_variables.ipynb\" target=\"_parent\"><img src=\"https://colab.research.google.com/assets/colab-badge.svg\" alt=\"Open In Colab\"/></a>"
      ]
    },
    {
      "cell_type": "code",
      "execution_count": null,
      "metadata": {
        "id": "BF4A2fYGfRxx"
      },
      "outputs": [],
      "source": [
        "my_int = 8\n",
        "my_float = 3.14\n",
        "my_list = [1, 2, 3, 4, \"Hello\"]"
      ]
    },
    {
      "cell_type": "code",
      "source": [
        "print(my_int)\n",
        "print(my_float)\n",
        "print(my_list)"
      ],
      "metadata": {
        "id": "sKnbQHIifyIE"
      },
      "execution_count": null,
      "outputs": []
    }
  ]
}