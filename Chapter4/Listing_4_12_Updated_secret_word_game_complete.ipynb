{
  "nbformat": 4,
  "nbformat_minor": 0,
  "metadata": {
    "colab": {
      "provenance": [],
      "authorship_tag": "ABX9TyP5lGLKHTnTp+RdsFqMGYq6",
      "include_colab_link": true
    },
    "kernelspec": {
      "name": "python3",
      "display_name": "Python 3"
    },
    "language_info": {
      "name": "python"
    }
  },
  "cells": [
    {
      "cell_type": "markdown",
      "metadata": {
        "id": "view-in-github",
        "colab_type": "text"
      },
      "source": [
        "<a href=\"https://colab.research.google.com/github/lwgray/mastering_python/blob/main/Chapter4/Listing_4_12_Updated_secret_word_game_complete.ipynb\" target=\"_parent\"><img src=\"https://colab.research.google.com/assets/colab-badge.svg\" alt=\"Open In Colab\"/></a>"
      ]
    },
    {
      "cell_type": "code",
      "source": [
        "import random\n",
        "\n",
        "# This is the secret word that must be guessed\n",
        "passphrase = random.choice([\"the quokka sits at high noon with his brim pulled down low\",\n",
        "                            \"the fennec fox burrows deep into the white sand\",\n",
        "                            \"A capybara stands on the roof of an old sedan\",\n",
        "                            \"Shake the hand of axolotl on dry land\",\n",
        "                            \"Beware of the nice Komodo dragon while it drinks martinis\"])\n",
        "\n",
        "print(\"Welcome to the guessing game!\")\n",
        "print(\"You have to guess the passphrase. I will tell you how many letters it has.\")\n",
        "\n",
        "print(\"The passphrase has\", len(passphrase), \"letters.\")\n",
        "guess = input(\"Please enter your guess: \")\n",
        "while guess != passphrase:\n",
        "  print(\"That's not correct. Try again!\")\n",
        "  guess = input(\"Please enter your guess: \")\n",
        "print(\"Congratulations! You've guessed the passphrase.\")"
      ],
      "metadata": {
        "id": "fbJ3D7hCrYgx"
      },
      "execution_count": null,
      "outputs": []
    },
    {
      "cell_type": "code",
      "source": [],
      "metadata": {
        "id": "lT0hjIDt4xCH"
      },
      "execution_count": null,
      "outputs": []
    }
  ]
}