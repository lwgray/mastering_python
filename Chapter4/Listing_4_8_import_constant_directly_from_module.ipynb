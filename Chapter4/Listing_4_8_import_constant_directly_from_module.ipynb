{
  "nbformat": 4,
  "nbformat_minor": 0,
  "metadata": {
    "colab": {
      "provenance": [],
      "authorship_tag": "ABX9TyN7x9vGbprNavMCqAw2AQ6H",
      "include_colab_link": true
    },
    "kernelspec": {
      "name": "python3",
      "display_name": "Python 3"
    },
    "language_info": {
      "name": "python"
    }
  },
  "cells": [
    {
      "cell_type": "markdown",
      "metadata": {
        "id": "view-in-github",
        "colab_type": "text"
      },
      "source": [
        "<a href=\"https://colab.research.google.com/github/lwgray/mastering_python/blob/main/Chapter4/Listing_4_8_import_constant_directly_from_module.ipynb\" target=\"_parent\"><img src=\"https://colab.research.google.com/assets/colab-badge.svg\" alt=\"Open In Colab\"/></a>"
      ]
    },
    {
      "cell_type": "code",
      "execution_count": 1,
      "metadata": {
        "colab": {
          "base_uri": "https://localhost:8080/"
        },
        "id": "qO0fTuvDm7vl",
        "outputId": "bec369e7-77d4-4be8-b3ea-cf7be54f8996"
      },
      "outputs": [
        {
          "output_type": "stream",
          "name": "stdout",
          "text": [
            "2827.4333882308138\n"
          ]
        }
      ],
      "source": [
        "from math import pi\n",
        "radius = 30\n",
        "area = pi * radius ** 2\n",
        "print(area)"
      ]
    }
  ]
}