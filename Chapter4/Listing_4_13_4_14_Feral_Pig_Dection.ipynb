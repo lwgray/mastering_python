{
  "nbformat": 4,
  "nbformat_minor": 0,
  "metadata": {
    "colab": {
      "provenance": [],
      "authorship_tag": "ABX9TyM0//qxi3xYoBlhvo2VglTs",
      "include_colab_link": true
    },
    "kernelspec": {
      "name": "python3",
      "display_name": "Python 3"
    },
    "language_info": {
      "name": "python"
    }
  },
  "cells": [
    {
      "cell_type": "markdown",
      "metadata": {
        "id": "view-in-github",
        "colab_type": "text"
      },
      "source": [
        "<a href=\"https://colab.research.google.com/github/lwgray/mastering_python/blob/main/Chapter4/Listing_4_13_4_14_Feral_Pig_Dection.ipynb\" target=\"_parent\"><img src=\"https://colab.research.google.com/assets/colab-badge.svg\" alt=\"Open In Colab\"/></a>"
      ]
    },
    {
      "cell_type": "code",
      "execution_count": null,
      "metadata": {
        "id": "If-85Qpa16hU"
      },
      "outputs": [],
      "source": [
        "print(\"There are 4 photographs\")\n",
        "\n",
        "# Initialize variables to store total pigs and max pigs seen\n",
        "total_pigs = 0\n",
        "max_pigs = 0\n",
        "\n",
        "# Gathering data for 1st photograph\n",
        "pigs_in_photo = int(input(\"Enter the number of pigs in the 1st photograph: \"))\n",
        "total_pigs += pigs_in_photo\n",
        "max_pigs = max(max_pigs, pigs_in_photo)\n",
        "# Gathering data for 2nd photograph\n",
        "pigs_in_photo = int(input(\"Enter the number of pigs in the 2nd photograph: \"))\n",
        "total_pigs += pigs_in_photo\n",
        "max_pigs = max(max_pigs, pigs_in_photo)\n",
        "\n",
        "# Gathering data for 3rd photograph\n",
        "pigs_in_photo = int(input(\"Enter the number of pigs in the 3rd photograph: \"))\n",
        "total_pigs += pigs_in_photo\n",
        "max_pigs = max(max_pigs, pigs_in_photo)\n",
        "\n",
        "# Gathering data for 4th photograph\n",
        "pigs_in_photo = int(input(\"Enter the number of pigs in the 4th photograph: \"))\n",
        "total_pigs += pigs_in_photo\n",
        "max_pigs = max(max_pigs, pigs_in_photo)\n",
        "\n",
        "#Calculating Average and displaying results\n",
        "average_pigs = total_pigs / 4\n",
        "print(\"Average number of pigs per photograph:\", average_pigs)\n",
        "print(\"Max number of pigs seen in a single photograph:\", max_pigs)"
      ]
    }
  ]
}