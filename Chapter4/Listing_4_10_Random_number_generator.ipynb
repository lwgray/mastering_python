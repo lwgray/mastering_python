{
  "nbformat": 4,
  "nbformat_minor": 0,
  "metadata": {
    "colab": {
      "provenance": [],
      "authorship_tag": "ABX9TyOib0fFdsqCcBrquLCxoTlK",
      "include_colab_link": true
    },
    "kernelspec": {
      "name": "python3",
      "display_name": "Python 3"
    },
    "language_info": {
      "name": "python"
    }
  },
  "cells": [
    {
      "cell_type": "markdown",
      "metadata": {
        "id": "view-in-github",
        "colab_type": "text"
      },
      "source": [
        "<a href=\"https://colab.research.google.com/github/lwgray/mastering_python/blob/main/Chapter4/Listing_4_10_Random_number_generator.ipynb\" target=\"_parent\"><img src=\"https://colab.research.google.com/assets/colab-badge.svg\" alt=\"Open In Colab\"/></a>"
      ]
    },
    {
      "cell_type": "code",
      "execution_count": null,
      "metadata": {
        "id": "_x7Ixc9DpUs-"
      },
      "outputs": [],
      "source": [
        "# import the random module\n",
        "import random\n",
        "\n",
        "#Greet the user\n",
        "print(\"Welcome to the Random Number Generator!\")\n",
        "\n",
        "#Ask user to press enter\n",
        "play = input(\"Do you want to generate a random number, yes or no\")\n",
        "\n",
        "\n",
        "while play != \"no\":    #C\n",
        "    # generate and print a random number between 1 and 10\n",
        "    # Ask if user wants to continue playing\n",
        "    random_number = random.randint(1,10)    #D\n",
        "    print(\"Your random number is: \", random_number)\n",
        "    play = input(\"Do you want to continue playing? yes or no\")    #E\n",
        "print(\"Thanks for generating numbers with us!\")    #F\n",
        "\n",
        "\n"
      ]
    }
  ]
}