{
  "nbformat": 4,
  "nbformat_minor": 0,
  "metadata": {
    "colab": {
      "provenance": [],
      "authorship_tag": "ABX9TyPGywCfz4pb8L3SZPX7aHAX",
      "include_colab_link": true
    },
    "kernelspec": {
      "name": "python3",
      "display_name": "Python 3"
    },
    "language_info": {
      "name": "python"
    }
  },
  "cells": [
    {
      "cell_type": "markdown",
      "metadata": {
        "id": "view-in-github",
        "colab_type": "text"
      },
      "source": [
        "<a href=\"https://colab.research.google.com/github/lwgray/mastering_python/blob/main/Chapter4/Listing_4_6_Completed_Secret_Word_Code.ipynb\" target=\"_parent\"><img src=\"https://colab.research.google.com/assets/colab-badge.svg\" alt=\"Open In Colab\"/></a>"
      ]
    },
    {
      "cell_type": "code",
      "execution_count": null,
      "metadata": {
        "id": "fi1zLMp2jYnz"
      },
      "outputs": [],
      "source": [
        "# This is the secret word that must be guessed\n",
        "secret_word = \"maxine\"\n",
        "print(\"Welcome to the guessing game!\")\n",
        "print(\"You have to guess the secret word. I will tell you how many letters it has.\")\n",
        "\n",
        "print(\"The secret word has\", len(secret_word), \"letters.\")\n",
        "\n",
        "guess = input(\"Please enter your guess: \")\n",
        "\n",
        "while guess != secret_word:\n",
        "    print(\"That's not correct. Try again!\")\n",
        "    guess = input(\"Please enter your guess: \")\n",
        "print(\"Congratulations! You've guessed the secret word.\")"
      ]
    }
  ]
}