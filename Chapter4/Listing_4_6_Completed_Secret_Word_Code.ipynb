{
  "nbformat": 4,
  "nbformat_minor": 0,
  "metadata": {
    "colab": {
      "provenance": [],
      "authorship_tag": "ABX9TyM2rEw+4icKV136lTsk8kvo",
      "include_colab_link": true
    },
    "kernelspec": {
      "name": "python3",
      "display_name": "Python 3"
    },
    "language_info": {
      "name": "python"
    }
  },
  "cells": [
    {
      "cell_type": "markdown",
      "metadata": {
        "id": "view-in-github",
        "colab_type": "text"
      },
      "source": [
        "<a href=\"https://colab.research.google.com/github/lwgray/mastering_python/blob/main/Chapter4/Listing_4_6_Completed_Secret_Word_Code.ipynb\" target=\"_parent\"><img src=\"https://colab.research.google.com/assets/colab-badge.svg\" alt=\"Open In Colab\"/></a>"
      ]
    },
    {
      "cell_type": "code",
      "execution_count": null,
      "metadata": {
        "id": "fi1zLMp2jYnz"
      },
      "outputs": [],
      "source": [
        "# This is the passphrase that must be guessed\n",
        "passphrase = \"the quokka sits at high noon with his brim pulled down low\"\n",
        "\n",
        "print(\"Welcome to the guessing game!\")\n",
        "print(\"You have to guess the passphrase. I will tell you how many letters it has.\")\n",
        "\n",
        "print(\"The passphrase has\", len(passphrase), \"letters.\")\n",
        "\n",
        "guess = input(\"Please enter your guess: \")\n",
        "\n",
        "while guess != passphrase:\n",
        "    print(\"That's not correct. Try again!\")\n",
        "    guess = input(\"Please enter your guess: \")\n",
        "print(\"Congratulations! You've guessed the passphrase.\")"
      ]
    }
  ]
}