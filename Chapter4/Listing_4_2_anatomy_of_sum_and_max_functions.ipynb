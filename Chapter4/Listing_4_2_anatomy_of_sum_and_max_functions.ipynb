{
  "nbformat": 4,
  "nbformat_minor": 0,
  "metadata": {
    "colab": {
      "provenance": [],
      "authorship_tag": "ABX9TyMcaTNeZXrUV03/X8f6AN5P",
      "include_colab_link": true
    },
    "kernelspec": {
      "name": "python3",
      "display_name": "Python 3"
    },
    "language_info": {
      "name": "python"
    }
  },
  "cells": [
    {
      "cell_type": "markdown",
      "metadata": {
        "id": "view-in-github",
        "colab_type": "text"
      },
      "source": [
        "<a href=\"https://colab.research.google.com/github/lwgray/mastering_python/blob/main/Chapter4/Listing_4_2_anatomy_of_sum_and_max_functions.ipynb\" target=\"_parent\"><img src=\"https://colab.research.google.com/assets/colab-badge.svg\" alt=\"Open In Colab\"/></a>"
      ]
    },
    {
      "cell_type": "code",
      "execution_count": 1,
      "metadata": {
        "colab": {
          "base_uri": "https://localhost:8080/"
        },
        "id": "7sNpwgHe7Gk1",
        "outputId": "67ed5cb8-49b3-43cd-85f3-07640bb8fec8"
      },
      "outputs": [
        {
          "output_type": "stream",
          "name": "stdout",
          "text": [
            "10\n",
            "44\n",
            "[56, 89, -1, 32]\n",
            "137\n"
          ]
        }
      ],
      "source": [
        "# sum(iterable)\n",
        "add_up = sum([1, 2, 3, 4])\n",
        "print (add_up)\n",
        "#Returns 10\n",
        "\n",
        "#max(iterable, *)\n",
        "max1 = max([ 5, 7, 23, 44])\n",
        "print(max1)\n",
        "#Returns 44\n",
        "\n",
        "max2 = max([5, 7, 23, 44], [56, 89, -1, 32])\n",
        "print(max2)\n",
        "#Returns [56, 89, -1, 32]\n",
        "\n",
        "# max(arg1, arg2, *args)\n",
        "max3 = max(2, 100, 137)\n",
        "print(max3)\n",
        "#Returns 137"
      ]
    }
  ]
}